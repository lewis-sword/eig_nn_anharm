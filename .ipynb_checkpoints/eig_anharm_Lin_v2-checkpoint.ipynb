{
 "cells": [
  {
   "cell_type": "code",
   "execution_count": 1,
   "metadata": {
    "colab": {},
    "colab_type": "code",
    "executionInfo": {
     "elapsed": 1473,
     "status": "ok",
     "timestamp": 1598863280506,
     "user": {
      "displayName": "Henry Jin",
      "photoUrl": "https://lh3.googleusercontent.com/a-/AOh14GhKnMwsDykfxrUIjARNIjgUIBd6HjrYqtcn29M1kQ=s64",
      "userId": "11418418569681566003"
     },
     "user_tz": -480
    },
    "id": "2F02ZJFGw878"
   },
   "outputs": [],
   "source": [
    "# Insert code here.\n",
    "import numpy as np\n",
    "import torch\n",
    "import torch.optim as optim\n",
    "from torch.autograd import grad\n",
    "from torch.autograd import Variable\n",
    "import matplotlib.pyplot as plt\n",
    "import time\n",
    "import copy\n",
    "from scipy.integrate import odeint\n",
    "import os    \n",
    "os.environ['KMP_DUPLICATE_LIB_OK'] = 'True' # Prevents crashes at plot stage\n",
    "\n",
    "dtype=torch.float\n",
    "\n",
    "%matplotlib inline\n"
   ]
  },
  {
   "cell_type": "code",
   "execution_count": 2,
   "metadata": {
    "colab": {},
    "colab_type": "code",
    "executionInfo": {
     "elapsed": 1447,
     "status": "ok",
     "timestamp": 1598863280508,
     "user": {
      "displayName": "Henry Jin",
      "photoUrl": "https://lh3.googleusercontent.com/a-/AOh14GhKnMwsDykfxrUIjARNIjgUIBd6HjrYqtcn29M1kQ=s64",
      "userId": "11418418569681566003"
     },
     "user_tz": -480
    },
    "id": "5CysoHagw__l"
   },
   "outputs": [],
   "source": [
    "# for the plots\n",
    "plt.rc('xtick', labelsize=16) \n",
    "plt.rcParams.update({'font.size': 16})\n",
    "\n",
    "# Define the sin() activation function\n",
    "class mySin(torch.nn.Module):\n",
    "    @staticmethod\n",
    "    def forward(input):\n",
    "        return torch.sin(input)\n",
    "    \n",
    "# Define some more general functions\n",
    "def dfx(x,f):\n",
    "    # Calculate the derivative with auto-differention\n",
    "    return grad([f], [x], grad_outputs=torch.ones(x.shape, dtype=dtype), create_graph=True)[0]\n",
    "\n",
    "def perturbPoints(grid,t0,tf,sig=0.5):\n",
    "#   stochastic perturbation of the evaluation points\n",
    "#   force t[0]=t0  & force points to be in the t-interval\n",
    "    delta_t = grid[1] - grid[0]  \n",
    "    noise = delta_t * torch.randn_like(grid)*sig\n",
    "    t = grid + noise\n",
    "    #the .data method does\n",
    "    t.data[2] = torch.ones(1,1)*(-1)\n",
    "    t.data[t<t0]=t0 - t.data[t<t0]\n",
    "    t.data[t>tf]=2*tf - t.data[t>tf]\n",
    "    t.data[0] = torch.ones(1,1)*t0\n",
    "\n",
    "    t.data[-1] = torch.ones(1,1)*tf\n",
    "    t.requires_grad = False\n",
    "    #print(type(t.data))\n",
    "    return t"
   ]
  },
  {
   "cell_type": "code",
   "execution_count": 3,
   "metadata": {},
   "outputs": [
    {
     "name": "stdout",
     "output_type": "stream",
     "text": [
      "tensor([4., 6.], grad_fn=<MulBackward0>)\n",
      "tensor([3., 3.])\n"
     ]
    }
   ],
   "source": [
    "#Testing gradients with autograd\n",
    "a = torch.tensor([2., 3.], requires_grad=True)\n",
    "b = torch.tensor([6., 4.], requires_grad=True)\n",
    "Q = a**2+b*3\n",
    "#external_grad = torch.tensor([1., 1.])\n",
    "#Q.backward(gradient=external_grad)\n",
    "#grad(x,torch.sin(x))\n",
    "#b.grad\n",
    "#Cannot call backward before this.\n",
    "#grad([Q],[a], grad_outputs=torch.ones(a.shape, dtype=dtype), retain_graph=True)\n",
    "print(dfx(a,Q))\n",
    "print(dfx(b,Q))\n",
    "\n",
    "t0 = -6\n",
    "tf = 6\n",
    "n_train = 100\n",
    "xBC1=0.\n",
    "grid = torch.linspace(t0, tf, n_train).reshape(-1,1)\n",
    "#perturbPoints(grid,t0,tf)"
   ]
  },
  {
   "cell_type": "code",
   "execution_count": 5,
   "metadata": {
    "colab": {},
    "colab_type": "code",
    "executionInfo": {
     "elapsed": 1371,
     "status": "ok",
     "timestamp": 1598863280510,
     "user": {
      "displayName": "Henry Jin",
      "photoUrl": "https://lh3.googleusercontent.com/a-/AOh14GhKnMwsDykfxrUIjARNIjgUIBd6HjrYqtcn29M1kQ=s64",
      "userId": "11418418569681566003"
     },
     "user_tz": -480
    },
    "id": "DDhb7bZixAI5"
   },
   "outputs": [],
   "source": [
    "def parametricSolutions(t, nn, t0, x1):\n",
    "    # parametric solutions \n",
    "    N1,N2 = nn(t)\n",
    "    dt =t-t0\n",
    "#### THERE ARE TWO PARAMETRIC SOLUTIONS. Uncomment f=dt \n",
    "    f = (1-torch.exp(-dt))*(1-torch.exp(dt-12))\n",
    "#     f=dt\n",
    "    psi_hat  = x1  + f*N1\n",
    "    return psi_hat\n",
    "\n",
    "\n",
    "def hamEqs_Loss(t,psi, E,V):\n",
    "\n",
    "    psi_dx = dfx(t,psi)\n",
    "    psi_ddx= dfx(t,psi_dx)\n",
    "    #f = -psi_ddx/2 + (-E+V)*psi\n",
    "    f = -psi_ddx + (-E+V)*psi\n",
    "    L  = (f.pow(2)).mean(); \n",
    "    return L\n",
    "\n",
    "def potential(Xs):\n",
    "  # Gives the potential at each point\n",
    "  # Takes in tensor of x points, gives back tensor of V at each point\n",
    "  k0 =1\n",
    "  k1 =1\n",
    "\n",
    "  Xsnp = Xs.data.numpy()\n",
    "  #Vnp = (k0*Xsnp**2)/2\n",
    "  Vnp = k0*Xsnp**2 + k1*Xsnp**4\n",
    "  Vtorch = torch.from_numpy(Vnp)\n",
    "  return Vtorch"
   ]
  },
  {
   "cell_type": "code",
   "execution_count": 6,
   "metadata": {
    "colab": {},
    "colab_type": "code",
    "executionInfo": {
     "elapsed": 1732,
     "status": "ok",
     "timestamp": 1598863280894,
     "user": {
      "displayName": "Henry Jin",
      "photoUrl": "https://lh3.googleusercontent.com/a-/AOh14GhKnMwsDykfxrUIjARNIjgUIBd6HjrYqtcn29M1kQ=s64",
      "userId": "11418418569681566003"
     },
     "user_tz": -480
    },
    "id": "6ckaBXzDsoCm"
   },
   "outputs": [],
   "source": [
    "class qNN1(torch.nn.Module):\n",
    "    def __init__(self, D_hid=10):\n",
    "        super(qNN1,self).__init__()\n",
    "\n",
    "        # Define the Activation\n",
    "        #  self.actF = torch.nn.Sigmoid()   \n",
    "        self.actF = mySin()\n",
    "        \n",
    "        # define layers\n",
    "        #self.Lin_1   = torch.nn.Linear(1, D_hid)\n",
    "        #self.E_out = torch.nn.Linear(D_hid, 1)\n",
    "        #self.Lin_2 = torch.nn.Linear(D_hid, D_hid)\n",
    "        #self.Ein = torch.nn.Linear(1,1)\n",
    "        #self.Lin_out = torch.nn.Linear(D_hid+1, 1)\n",
    "        \n",
    "        \n",
    "        #Looking at the net in the paper. the 1->\\lambda stage contains a single arrow contributing 1X1 weight\n",
    "        # the (x,\\lambda) -> HL1 (Hidden layer one), has 2 nodes on left, D_hid on right, hence 2 X D_(hid) arrows/parameters\n",
    "        # the HL1 -> HL2 contributes D_(hid) X D_(hid) parameters\n",
    "        # Finally, HL2 -> Outpu contributes D_(hid) X 1 parameters.\n",
    "        self.Ein    = torch.nn.Linear(1,1)\n",
    "        self.Lin_1  = torch.nn.Linear(2, D_hid)\n",
    "        self.Lin_2  = torch.nn.Linear(D_hid, D_hid)\n",
    "        self.Lin_3  = torch.nn.Linear(D_hid, D_hid)\n",
    "        self.out    = torch.nn.Linear(D_hid, 1)\n",
    "\n",
    "    def forward(self,t):\n",
    "        In1 = self.Ein(torch.ones_like(t))\n",
    "        L1 = self.Lin_1(torch.cat((t,In1),1)) # This is where the difference is: cat joins the inputs of x (perturbations) \n",
    "                                                #and the 1 that is fed into the Ein layer\n",
    "        h1 = self.actF(L1)\n",
    "        L2 = self.Lin_2(h1)\n",
    "        h2 = self.actF(L2)\n",
    "        L3 = self.Lin_3(h2)\n",
    "        h3 = self.actF(L3)\n",
    "        out = self.out(h2)\n",
    "        return out, In1"
   ]
  },
  {
   "cell_type": "code",
   "execution_count": 7,
   "metadata": {},
   "outputs": [
    {
     "name": "stdout",
     "output_type": "stream",
     "text": [
      "Ein.weight tensor([[0.8739]])\n",
      "Ein.bias tensor([-0.0485])\n",
      "Lin_1.weight tensor([[-0.4372, -0.3599],\n",
      "        [-0.6354,  0.2159],\n",
      "        [-0.2874,  0.3428],\n",
      "        [ 0.5405,  0.4177],\n",
      "        [-0.0428,  0.3699]])\n",
      "Lin_1.bias tensor([ 0.6999, -0.1092,  0.5963, -0.6013,  0.6281])\n",
      "Lin_2.weight tensor([[-0.3755, -0.1719, -0.0786,  0.4027,  0.2680],\n",
      "        [-0.1543,  0.3270,  0.4156,  0.3198, -0.2048],\n",
      "        [ 0.0235,  0.0247,  0.0617,  0.4147,  0.0855],\n",
      "        [ 0.3028, -0.1616, -0.2021,  0.3750,  0.3988],\n",
      "        [-0.3218, -0.1226, -0.3122,  0.3280,  0.2652]])\n",
      "Lin_2.bias tensor([ 0.3637,  0.2458,  0.4060, -0.4098,  0.1362])\n",
      "Lin_3.weight tensor([[ 0.3989,  0.2406,  0.2398, -0.1638, -0.2225],\n",
      "        [-0.2610,  0.2556,  0.0783, -0.1644,  0.3409],\n",
      "        [-0.1866,  0.3690, -0.0138,  0.3317, -0.2668],\n",
      "        [ 0.1027,  0.0602, -0.4224, -0.1985, -0.2444],\n",
      "        [ 0.3500,  0.1540, -0.1175,  0.3029,  0.1876]])\n",
      "Lin_3.bias tensor([ 0.1208,  0.3024, -0.3692,  0.0248,  0.0767])\n",
      "out.weight tensor([[ 0.3563, -0.1905, -0.1239, -0.0683,  0.1756]])\n",
      "out.bias tensor([0.2439])\n"
     ]
    }
   ],
   "source": [
    "netTest = qNN1(5)\n",
    "for name, param in netTest.named_parameters():\n",
    "    if param.requires_grad:\n",
    "        print(name, param.data)"
   ]
  },
  {
   "cell_type": "code",
   "execution_count": 8,
   "metadata": {
    "colab": {},
    "colab_type": "code",
    "executionInfo": {
     "elapsed": 1690,
     "status": "ok",
     "timestamp": 1598863280897,
     "user": {
      "displayName": "Henry Jin",
      "photoUrl": "https://lh3.googleusercontent.com/a-/AOh14GhKnMwsDykfxrUIjARNIjgUIBd6HjrYqtcn29M1kQ=s64",
      "userId": "11418418569681566003"
     },
     "user_tz": -480
    },
    "id": "81syaWmExASf"
   },
   "outputs": [],
   "source": [
    "# Train the NN\n",
    "from IPython.display import clear_output\n",
    "def run_Scan_oscillator(t0, tf, x1, neurons, epochs, n_train,lr, minibatch_number = 1):\n",
    "    fc0 = qNN1(neurons) #Creates a class member called fc0\n",
    "    fc1=0; \n",
    "    betas = [0.999, 0.9999]\n",
    "    optimizer = optim.Adam(fc0.parameters(), lr=lr, betas=betas)\n",
    "    Loss_history = [];     Llim =  1e+20\n",
    "    En_loss_history = []\n",
    "    boundary_loss_history = []\n",
    "    nontriv_loss_history = []\n",
    "    SE_loss_history = []\n",
    "    Ennontriv_loss_history = []\n",
    "    criteria_loss_history = []\n",
    "    En_history = []\n",
    "    EWall_history = []\n",
    "    di = (None, 1e+20)\n",
    "    dic = {0:di, 1:di, 2:di, 3:di, 4:di, 5:di , 6:di, 7:di, 8:di, 9:di, 10:di, 11:di, 12:di, 13:di, 14:di, 15:di, 16:di}\n",
    "    \n",
    "    grid = torch.linspace(t0, tf, n_train).reshape(-1,1)\n",
    "    \n",
    "    ## TRAINING ITERATION    \n",
    "    TeP0 = time.time()\n",
    "    walle = -2\n",
    "    last_psi_L = 0\n",
    "    for tt in range(epochs): \n",
    "        if tt != epochs-1:\n",
    "            print(\"Epoch number = \", tt)\n",
    "            clear_output(wait=True)\n",
    "        #adjusting learning rate at epoch 3e4\n",
    "        #if tt == 3e4:\n",
    "        #    optimizer = optim.Adam(fc0.parameters(), lr = 1e-2, betas = betas)\n",
    "# Perturbing the evaluation points & forcing t[0]=t0\n",
    "        t=perturbPoints(grid,t0,tf,sig=.03*tf)\n",
    "            \n",
    "# BATCHING\n",
    "        batch_size = int(n_train/minibatch_number)\n",
    "        batch_start, batch_end = 0, batch_size\n",
    "\n",
    "        idx = np.random.permutation(n_train)\n",
    "        t_b = t[idx]\n",
    "        t_b.requires_grad = True\n",
    "        t_f=t[-1]\n",
    "        t_f=t_f.reshape(-1,1)\n",
    "        t_f.requires_grad = True\n",
    "        loss=0.0\n",
    "\n",
    "\n",
    "        for nbatch in range(minibatch_number): \n",
    "# batch time set\n",
    "            t_mb = t_b[batch_start:batch_end]\n",
    "\n",
    "#  Network solutions \n",
    "            nn, En = fc0(t_mb)\n",
    "\n",
    "            En_history.append(En[0].data.tolist()[0])\n",
    "\n",
    "            psi  = parametricSolutions(t_mb, fc0, t0, x1) #- last_psi_L*torch.exp(-(torch.ones_like(t_mb)-1)**2/(2*(1/20)))\n",
    "            #last_psi_L = parametricSolutions(torch.ones_like(t_mb),fc0,t0,x1).data.numpy()[0][0]\n",
    "            #print(last_psi_L)\n",
    "            Pot = potential(t_mb)\n",
    "            Ltot = hamEqs_Loss(t_mb, psi, En, Pot)\n",
    "            SE_loss_history.append(Ltot) #\n",
    "            \n",
    "            criteria_loss =  Ltot\n",
    "\n",
    "            if tt%1000 == 0:\n",
    "              walle += 0.16\n",
    "            Ltot += 1/((psi.pow(2)).mean()+1e-6) + 1/(En.pow(2).mean()+1e-6) + torch.exp(-1*En+walle).mean()\n",
    "            En_loss_history.append(torch.exp(-1*En+walle).mean()) #\n",
    "            EWall_history.append(walle)\n",
    "\n",
    "            \n",
    "            nontriv_loss_history.append(1/((psi.pow(2)).mean()+1e-6)) #\n",
    "            Ennontriv_loss_history.append(1/(En.pow(2).mean()+1e-6)) #\n",
    "# OPTIMIZER\n",
    "            Ltot.backward(retain_graph=False); #True\n",
    "            optimizer.step(); loss += Ltot.data.numpy()\n",
    "            optimizer.zero_grad()\n",
    "\n",
    "            batch_start +=batch_size\n",
    "            batch_end +=batch_size\n",
    "\n",
    "# keep the loss function history\n",
    "        Loss_history.append(loss)       \n",
    "\n",
    "#Keep the best model (lowest loss) by using a deep copy\n",
    "        if  criteria_loss < Llim:\n",
    "            fc1 =  copy.deepcopy(fc0)\n",
    "            Llim=criteria_loss\n",
    "\n",
    "        E_bin = abs(En[0].data.tolist()[0]//2) \n",
    "        if criteria_loss < dic[E_bin][1]:\n",
    "          dic[E_bin] = (copy.deepcopy(fc0), criteria_loss)\n",
    "\n",
    "    TePf = time.time()\n",
    "    runTime = TePf - TeP0  \n",
    "    loss_histories = (Loss_history, boundary_loss_history, nontriv_loss_history, SE_loss_history, Ennontriv_loss_history, En_loss_history, criteria_loss_history, fc0, En_history, EWall_history, dic)\n",
    "    return fc1, loss_histories, runTime"
   ]
  },
  {
   "cell_type": "code",
   "execution_count": 9,
   "metadata": {
    "colab": {},
    "colab_type": "code",
    "executionInfo": {
     "elapsed": 581782,
     "status": "ok",
     "timestamp": 1598863861006,
     "user": {
      "displayName": "Henry Jin",
      "photoUrl": "https://lh3.googleusercontent.com/a-/AOh14GhKnMwsDykfxrUIjARNIjgUIBd6HjrYqtcn29M1kQ=s64",
      "userId": "11418418569681566003"
     },
     "user_tz": -480
    },
    "id": "XdUzP7nNk6Kx"
   },
   "outputs": [
    {
     "name": "stdout",
     "output_type": "stream",
     "text": [
      "Epoch number =  79998\n"
     ]
    }
   ],
   "source": [
    "## Train the model \n",
    "\n",
    "t0 = -6\n",
    "tf = 6\n",
    "xBC1=0.\n",
    "\n",
    "\n",
    "n_train, neurons, epochs, lr, mb = 1200, 50, int(80000), 8e-3, 1 \n",
    "model1,loss_hists1,runTime1 = run_Scan_oscillator(t0, tf, xBC1, neurons, epochs, n_train, lr, mb)"
   ]
  },
  {
   "cell_type": "code",
   "execution_count": 10,
   "metadata": {
    "colab": {},
    "colab_type": "code",
    "id": "H95_eb3ck6K0"
   },
   "outputs": [
    {
     "name": "stdout",
     "output_type": "stream",
     "text": [
      "-0.03494441509246826\n"
     ]
    }
   ],
   "source": [
    "print(loss_hists1[8][-1])\n",
    "#aarg = np.argmin(loss_hists1[6])"
   ]
  },
  {
   "cell_type": "code",
   "execution_count": 11,
   "metadata": {
    "colab": {
     "base_uri": "https://localhost:8080/",
     "height": 481
    },
    "colab_type": "code",
    "executionInfo": {
     "elapsed": 2188,
     "status": "ok",
     "timestamp": 1598863867657,
     "user": {
      "displayName": "Henry Jin",
      "photoUrl": "https://lh3.googleusercontent.com/a-/AOh14GhKnMwsDykfxrUIjARNIjgUIBd6HjrYqtcn29M1kQ=s64",
      "userId": "11418418569681566003"
     },
     "user_tz": -480
    },
    "id": "cJzOqIw0k6K2",
    "outputId": "6e441625-18fe-4aa3-db2d-9ba3a3cec481"
   },
   "outputs": [
    {
     "name": "stdout",
     "output_type": "stream",
     "text": [
      "Training time (minutes): 12.426314628124237\n"
     ]
    },
    {
     "data": {
      "text/plain": [
       "Text(0.5, 25.522222222222204, 'Epochs')"
      ]
     },
     "execution_count": 11,
     "metadata": {},
     "output_type": "execute_result"
    },
    {
     "data": {
      "image/png": "[encoded data removed]",
      "text/plain": [
       "<Figure size 800x600 with 1 Axes>"
      ]
     },
     "metadata": {},
     "output_type": "display_data"
    }
   ],
   "source": [
    "# Loss function\n",
    "print('Training time (minutes):', runTime1/60)\n",
    "plt.figure(figsize = (8,6))\n",
    "plt.loglog(loss_hists1[0],'-b',alpha=0.975);\n",
    "#plt.axvline(x = aarg)\n",
    "\n",
    "plt.tight_layout()\n",
    "plt.ylabel('Total Loss');plt.xlabel('Epochs')\n",
    "#plt.savefig(imgdir+'harmonic_total_loss.png', bbox_inches = 'tight')"
   ]
  },
  {
   "cell_type": "code",
   "execution_count": 12,
   "metadata": {
    "colab": {},
    "colab_type": "code",
    "executionInfo": {
     "elapsed": 1186,
     "status": "ok",
     "timestamp": 1598864115756,
     "user": {
      "displayName": "Henry Jin",
      "photoUrl": "https://lh3.googleusercontent.com/a-/AOh14GhKnMwsDykfxrUIjARNIjgUIBd6HjrYqtcn29M1kQ=s64",
      "userId": "11418418569681566003"
     },
     "user_tz": -480
    },
    "id": "hw9jyFaUk6K6"
   },
   "outputs": [],
   "source": [
    "# TEST THE PREDICTED SOLUTIONS\n",
    "nTest = n_train; tTest = torch.linspace(t0-.1,tf+.1,nTest)\n",
    "tTest = tTest.reshape(-1,1);\n",
    "tTest.requires_grad=True\n",
    "t_net = tTest.detach().numpy()\n",
    "psi =parametricSolutions(tTest,model1,t0,xBC1) \n",
    "psi=psi.data.numpy(); \n"
   ]
  },
  {
   "cell_type": "code",
   "execution_count": 14,
   "metadata": {},
   "outputs": [
    {
     "data": {
      "text/plain": [
       "Text(0.5, 27.722222222222207, 'Epochs')"
      ]
     },
     "execution_count": 14,
     "metadata": {},
     "output_type": "execute_result"
    },
    {
     "data": {
      "image/png": "[encoded data removed]",
      "text/plain": [
       "<Figure size 800x600 with 1 Axes>"
      ]
     },
     "metadata": {},
     "output_type": "display_data"
    }
   ],
   "source": [
    "plt.figure(figsize = (8,6))\n",
    "plt.plot(loss_hists1[8][0:80000])\n",
    "#plt.axvline(x = aarg)\n",
    "plt.tight_layout()\n",
    "plt.ylabel('Model Energy History');plt.xlabel('Epochs')\n",
    "#plt.savefig(imgdir+'harmonic_modelE_hist.png', bbox_inches = 'tight')"
   ]
  },
  {
   "cell_type": "code",
   "execution_count": null,
   "metadata": {
    "colab": {
     "base_uri": "https://localhost:8080/",
     "height": 289
    },
    "colab_type": "code",
    "executionInfo": {
     "elapsed": 1647,
     "status": "ok",
     "timestamp": 1598864116241,
     "user": {
      "displayName": "Henry Jin",
      "photoUrl": "https://lh3.googleusercontent.com/a-/AOh14GhKnMwsDykfxrUIjARNIjgUIBd6HjrYqtcn29M1kQ=s64",
      "userId": "11418418569681566003"
     },
     "user_tz": -480
    },
    "id": "kvsaRRSZk6K-",
    "outputId": "81cbd730-83fb-4552-9770-b3c58e103750"
   },
   "outputs": [],
   "source": [
    "#tru = np.sin(3*np.pi*t_net)*np.max(-1*psi)\n",
    "#plt.plot(t_net, tru, '-r', linewidth = 1, label = 'True')\n",
    "plt.xlim(-7,7)\n",
    "#\n",
    "plt.plot(t_net, 1*psi, '-b', linewidth=1, label = 'ANN')\n",
    "plt.legend()\n",
    "plt.plot(t_net, np.zeros(len(t_net)),'--k', linewidth=3)\n",
    "plt.xlabel('x')\n",
    "plt.ylabel('$\\psi(x)$')\n",
    "plt.grid('on')\n",
    "#plt.plot(t_net, 8*t_net**2/2)\n"
   ]
  },
  {
   "cell_type": "code",
   "execution_count": null,
   "metadata": {
    "colab": {
     "base_uri": "https://localhost:8080/",
     "height": 229
    },
    "colab_type": "code",
    "executionInfo": {
     "elapsed": 2109,
     "status": "ok",
     "timestamp": 1598864116732,
     "user": {
      "displayName": "Henry Jin",
      "photoUrl": "https://lh3.googleusercontent.com/a-/AOh14GhKnMwsDykfxrUIjARNIjgUIBd6HjrYqtcn29M1kQ=s64",
      "userId": "11418418569681566003"
     },
     "user_tz": -480
    },
    "id": "-9bMU8uGk6LB",
    "outputId": "f0977461-1322-4886-cc33-754cf47c0c74"
   },
   "outputs": [],
   "source": [
    "E1 = np.pi**2/2 # ground\n",
    "p,e=model1(tTest)\n",
    "#ed = dfx(tTest,e)\n",
    "\n",
    "plt.figure(figsize=[16,3])\n",
    "### \n",
    "plt.subplot(1,3,1)\n",
    "plt.plot(t_net, e.data.numpy(), '-r', label='network', linewidth=3)\n",
    "plt.plot(t_net, E1*t_net/t_net, '--k', label='exact', linewidth=3, alpha=0.7)\n",
    "plt.ylim([0.99*E1, 1.01*E1])\n",
    "\n",
    "plt.legend()\n",
    "plt.xlabel('x',fontsize=15)\n",
    "plt.ylabel('Energy')\n",
    "###\n",
    "\n",
    "plt.subplot(1,3,2)\n",
    "plt.plot(t_net, e.data.numpy()-E1*t_net/t_net, '-b', linewidth=3)\n",
    "# plt.ylim([-1e-3, 1e-3])\n",
    "plt.xlabel('x')\n",
    "plt.ylabel('Residuals Energy')\n",
    "\n",
    "#plt.subplot(1,3,3)\n",
    "#plt.plot(t_net, ed.data.numpy(),'b', linewidth=3)\n",
    "#plt.xlabel('x')\n",
    "#plt.ylabel('d/dx Energy')\n",
    "\n",
    "plt.tight_layout()\n",
    "e[0][0]"
   ]
  },
  {
   "cell_type": "code",
   "execution_count": null,
   "metadata": {
    "colab": {
     "base_uri": "https://localhost:8080/",
     "height": 321
    },
    "colab_type": "code",
    "executionInfo": {
     "elapsed": 2198,
     "status": "ok",
     "timestamp": 1598149183589,
     "user": {
      "displayName": "Henry Jin",
      "photoUrl": "https://lh3.googleusercontent.com/a-/AOh14GhKnMwsDykfxrUIjARNIjgUIBd6HjrYqtcn29M1kQ=s64",
      "userId": "11418418569681566003"
     },
     "user_tz": -480
    },
    "id": "N3vpQ9Ekk6LD",
    "outputId": "3917fdda-b74b-4b0c-850a-9040da76176e"
   },
   "outputs": [],
   "source": [
    "#(Loss_history, boundary_loss_history, nontriv_loss_history, SE_loss_history, Ennontriv_loss_history)\n",
    "plt.loglog(loss_hists1[1],'-b',alpha=0.975);\n",
    "#plt.axvline(x = aarg)\n",
    "\n",
    "plt.tight_layout()\n",
    "plt.ylabel('Boundary Loss');plt.xlabel('t')"
   ]
  },
  {
   "cell_type": "code",
   "execution_count": null,
   "metadata": {
    "colab": {
     "base_uri": "https://localhost:8080/",
     "height": 629
    },
    "colab_type": "code",
    "executionInfo": {
     "elapsed": 1943,
     "status": "error",
     "timestamp": 1598860874793,
     "user": {
      "displayName": "Henry Jin",
      "photoUrl": "https://lh3.googleusercontent.com/a-/AOh14GhKnMwsDykfxrUIjARNIjgUIBd6HjrYqtcn29M1kQ=s64",
      "userId": "11418418569681566003"
     },
     "user_tz": -480
    },
    "id": "swhS7hfVk6LH",
    "outputId": "4d70b98e-c17a-4271-ea4e-a6e86b39cabc"
   },
   "outputs": [],
   "source": [
    "#(Loss_history, boundary_loss_history, nontriv_loss_history, SE_loss_history, Ennontriv_loss_history)\n",
    "plt.figure(figsize = (8,6))\n",
    "plt.loglog(loss_hists1[2],'-b',alpha=0.975);\n",
    "#plt.axvline(x = aarg)\n",
    "\n",
    "plt.tight_layout()\n",
    "plt.ylabel('Non-Trivial Eigenfunction Loss');plt.xlabel('Epochs')\n",
    "plt.savefig(imgdir+'harmonic_nontrivfunc_loss.png', bbox_inches = 'tight')"
   ]
  },
  {
   "cell_type": "code",
   "execution_count": null,
   "metadata": {
    "colab": {
     "base_uri": "https://localhost:8080/",
     "height": 629
    },
    "colab_type": "code",
    "executionInfo": {
     "elapsed": 1996,
     "status": "error",
     "timestamp": 1598860885207,
     "user": {
      "displayName": "Henry Jin",
      "photoUrl": "https://lh3.googleusercontent.com/a-/AOh14GhKnMwsDykfxrUIjARNIjgUIBd6HjrYqtcn29M1kQ=s64",
      "userId": "11418418569681566003"
     },
     "user_tz": -480
    },
    "id": "4k_HVw9Ik6LQ",
    "outputId": "018d22c6-bd03-49d9-a879-b7e7e982f4e0"
   },
   "outputs": [],
   "source": [
    "#(Loss_history, boundary_loss_history, nontriv_loss_history, SE_loss_history, Ennontriv_loss_history)\n",
    "plt.figure(figsize = (8,6))\n",
    "plt.loglog(loss_hists1[3],'-b',alpha=0.975);\n",
    "#plt.axvline(x = aarg)\n",
    "\n",
    "plt.tight_layout()\n",
    "plt.ylabel('Schrodinger Equation Loss');plt.xlabel('Epochs')\n",
    "plt.savefig(imgdir+'harmonic_SE_loss.png', bbox_inches = 'tight')"
   ]
  },
  {
   "cell_type": "code",
   "execution_count": null,
   "metadata": {
    "colab": {
     "base_uri": "https://localhost:8080/",
     "height": 446
    },
    "colab_type": "code",
    "executionInfo": {
     "elapsed": 1905,
     "status": "ok",
     "timestamp": 1598149510945,
     "user": {
      "displayName": "Henry Jin",
      "photoUrl": "https://lh3.googleusercontent.com/a-/AOh14GhKnMwsDykfxrUIjARNIjgUIBd6HjrYqtcn29M1kQ=s64",
      "userId": "11418418569681566003"
     },
     "user_tz": -480
    },
    "id": "Oa2N-EEkk6LY",
    "outputId": "fdc1e117-1830-4f68-dacb-8d1eec945fbb"
   },
   "outputs": [],
   "source": [
    "#(Loss_history, boundary_loss_history, nontriv_loss_history, SE_loss_history, Ennontriv_loss_history)\n",
    "plt.figure(figsize = (8,6))\n",
    "plt.loglog(loss_hists1[4],'-b',alpha=0.975);\n",
    "#plt.axvline(x = aarg)\n",
    "\n",
    "plt.tight_layout()\n",
    "plt.ylabel('Non-Trivial Energy Loss');plt.xlabel('Epochs')\n",
    "plt.savefig(imgdir+'harmonic_nontrivE_loss.png', bbox_inches = 'tight')"
   ]
  },
  {
   "cell_type": "code",
   "execution_count": null,
   "metadata": {
    "colab": {
     "base_uri": "https://localhost:8080/",
     "height": 446
    },
    "colab_type": "code",
    "executionInfo": {
     "elapsed": 2062,
     "status": "ok",
     "timestamp": 1598149530783,
     "user": {
      "displayName": "Henry Jin",
      "photoUrl": "https://lh3.googleusercontent.com/a-/AOh14GhKnMwsDykfxrUIjARNIjgUIBd6HjrYqtcn29M1kQ=s64",
      "userId": "11418418569681566003"
     },
     "user_tz": -480
    },
    "id": "7jLkTc2Yk6Lb",
    "outputId": "f99da771-0128-4574-c5cb-f8a618a7d2bd"
   },
   "outputs": [],
   "source": [
    "#(Loss_history, boundary_loss_history, nontriv_loss_history, SE_loss_history, Ennontriv_loss_history)\n",
    "plt.figure(figsize = (8,6))\n",
    "plt.loglog(loss_hists1[5],'-b',alpha=0.975);\n",
    "#plt.axvline(x = aarg)\n",
    "\n",
    "plt.tight_layout()\n",
    "plt.ylabel('Next Energy Regularizer Loss');plt.xlabel('Epochs')\n",
    "plt.savefig(imgdir+'harmonic_nextE_loss.png', bbox_inches = 'tight')"
   ]
  },
  {
   "cell_type": "code",
   "execution_count": null,
   "metadata": {
    "colab": {
     "base_uri": "https://localhost:8080/",
     "height": 321
    },
    "colab_type": "code",
    "executionInfo": {
     "elapsed": 6380,
     "status": "ok",
     "timestamp": 1598149187876,
     "user": {
      "displayName": "Henry Jin",
      "photoUrl": "https://lh3.googleusercontent.com/a-/AOh14GhKnMwsDykfxrUIjARNIjgUIBd6HjrYqtcn29M1kQ=s64",
      "userId": "11418418569681566003"
     },
     "user_tz": -480
    },
    "id": "jAncRNUhk6Ld",
    "outputId": "dddcce7c-74a3-4c8f-c954-3c8f7013d643"
   },
   "outputs": [],
   "source": [
    "#(Loss_history, boundary_loss_history, nontriv_loss_history, SE_loss_history, Ennontriv_loss_history)\n",
    "plt.loglog(loss_hists1[6],'-b',alpha=0.975);\n",
    "#plt.axvline(x = np.argmin(loss_hists1[6]))\n",
    "plt.tight_layout()\n",
    "plt.ylabel('Criteria Loss');plt.xlabel('t')"
   ]
  },
  {
   "cell_type": "code",
   "execution_count": null,
   "metadata": {
    "colab": {
     "base_uri": "https://localhost:8080/",
     "height": 402
    },
    "colab_type": "code",
    "executionInfo": {
     "elapsed": 2758,
     "status": "ok",
     "timestamp": 1598149547929,
     "user": {
      "displayName": "Henry Jin",
      "photoUrl": "https://lh3.googleusercontent.com/a-/AOh14GhKnMwsDykfxrUIjARNIjgUIBd6HjrYqtcn29M1kQ=s64",
      "userId": "11418418569681566003"
     },
     "user_tz": -480
    },
    "id": "WCJcgA64k6Lf",
    "outputId": "6737327e-1f1c-48a7-8b7c-2c404df7fbec"
   },
   "outputs": [],
   "source": [
    "# Loss_history, boundary_loss_history, nontriv_loss_history, SE_loss_history, Ennontriv_loss_history, En_loss_history\n",
    "plt.figure(figsize =(8,6))\n",
    "plt.loglog(loss_hists1[0],'-b',alpha=0.975, label = 'Total');\n",
    "#plt.loglog(loss_hists1[1],'-g',alpha=0.975, label = 'Boundary');\n",
    "plt.loglog(loss_hists1[2],'-r',alpha=0.975, label = 'Non-Triv');\n",
    "plt.loglog(loss_hists1[3],'-c',alpha=0.975, label = 'SE');\n",
    "plt.loglog(loss_hists1[4],'-m',alpha=0.975, label = 'E Non-Triv');\n",
    "plt.loglog(loss_hists1[5],'-y',alpha=0.975, label = 'En');\n",
    "#plt.loglog(loss_hists1[6],'-k',alpha=0.975, label = 'Criteria');\n",
    "#plt.axvline(x = aarg)\n",
    "plt.legend(bbox_to_anchor=(1.04,1), loc=\"upper left\")\n",
    "plt.ylabel('Losses'); plt.xlabel('Epochs')\n",
    "plt.savefig(imgdir+'harmonic_all_loss.png', bbox_inches = 'tight')"
   ]
  },
  {
   "cell_type": "code",
   "execution_count": null,
   "metadata": {
    "colab": {
     "base_uri": "https://localhost:8080/",
     "height": 629
    },
    "colab_type": "code",
    "executionInfo": {
     "elapsed": 1643,
     "status": "error",
     "timestamp": 1598863878990,
     "user": {
      "displayName": "Henry Jin",
      "photoUrl": "https://lh3.googleusercontent.com/a-/AOh14GhKnMwsDykfxrUIjARNIjgUIBd6HjrYqtcn29M1kQ=s64",
      "userId": "11418418569681566003"
     },
     "user_tz": -480
    },
    "id": "SAt1QA-sk6Lj",
    "outputId": "a7694bbe-4cd9-4f81-def0-1c363baa0ace"
   },
   "outputs": [],
   "source": [
    "plt.figure(figsize = (8,6))\n",
    "plt.plot(loss_hists1[8])\n",
    "#plt.axvline(x = aarg)\n",
    "plt.tight_layout()\n",
    "plt.ylabel('Model Energy History');plt.xlabel('Epochs')\n",
    "plt.savefig(imgdir+'harmonic_modelE_hist.png', bbox_inches = 'tight')"
   ]
  },
  {
   "cell_type": "code",
   "execution_count": null,
   "metadata": {
    "colab": {
     "base_uri": "https://localhost:8080/",
     "height": 446
    },
    "colab_type": "code",
    "executionInfo": {
     "elapsed": 961,
     "status": "ok",
     "timestamp": 1598149600948,
     "user": {
      "displayName": "Henry Jin",
      "photoUrl": "https://lh3.googleusercontent.com/a-/AOh14GhKnMwsDykfxrUIjARNIjgUIBd6HjrYqtcn29M1kQ=s64",
      "userId": "11418418569681566003"
     },
     "user_tz": -480
    },
    "id": "o1YgW5DMk6Lo",
    "outputId": "81058353-a8d7-4e48-db53-14711f94e8a5"
   },
   "outputs": [],
   "source": [
    "plt.figure(figsize = (8,6))\n",
    "plt.plot(loss_hists1[9])\n",
    "#plt.axvline(x = aarg)\n",
    "plt.tight_layout()\n",
    "plt.ylabel('Energy Wall History');plt.xlabel('Epochs')\n",
    "plt.savefig(imgdir+'harmonic_Ewall_hist.png', bbox_inches = 'tight')"
   ]
  },
  {
   "cell_type": "code",
   "execution_count": null,
   "metadata": {
    "colab": {
     "base_uri": "https://localhost:8080/",
     "height": 398
    },
    "colab_type": "code",
    "executionInfo": {
     "elapsed": 1801,
     "status": "ok",
     "timestamp": 1598864122437,
     "user": {
      "displayName": "Henry Jin",
      "photoUrl": "https://lh3.googleusercontent.com/a-/AOh14GhKnMwsDykfxrUIjARNIjgUIBd6HjrYqtcn29M1kQ=s64",
      "userId": "11418418569681566003"
     },
     "user_tz": -480
    },
    "id": "8-IIA1iYkzgt",
    "outputId": "2fc4ac7e-c65e-4966-f4ca-8e8b7789dfa3"
   },
   "outputs": [],
   "source": [
    "plt.figure(figsize = (8,6))\n",
    "psi_0to10 = parametricSolutions(tTest,loss_hists1[10][0][0],t0,xBC1)\n",
    "psi_10to20 = parametricSolutions(tTest,loss_hists1[10][1][0],t0,xBC1)\n",
    "psi_20to30 = parametricSolutions(tTest,loss_hists1[10][2][0],t0,xBC1)\n",
    "#psi_30to40 = parametricSolutions(tTest,loss_hists1[10][3][0],t0,xBC1)\n",
    "\n",
    "plt.plot(t_net, 1*psi_0to10.data.numpy()/np.max(np.abs(psi_0to10.data.numpy())), '-b', linewidth=1, label = 'n = 1')\n",
    "plt.plot(t_net, 1*psi_10to20.data.numpy()/np.max(np.abs(psi_10to20.data.numpy())), '-r', linewidth=1, label = 'n = 2')\n",
    "plt.plot(t_net, 1*psi_20to30.data.numpy()/np.max(np.abs(psi_20to30.data.numpy())), '-g', linewidth=1, label = 'n = 3')\n",
    "#plt.plot(t_net, 1*psi_30to40.data.numpy(), '-b', linewidth=1, label = 'ANN')\n",
    "plt.legend()\n",
    "plt.ylabel('$\\psi(x)$'); plt.xlabel('x')\n",
    "plt.savefig(imgdir+'harmonic_eigenfuncs.png', bbox_inches = 'tight')"
   ]
  },
  {
   "cell_type": "code",
   "execution_count": null,
   "metadata": {
    "colab": {
     "base_uri": "https://localhost:8080/",
     "height": 69
    },
    "colab_type": "code",
    "executionInfo": {
     "elapsed": 1279,
     "status": "ok",
     "timestamp": 1598864285139,
     "user": {
      "displayName": "Henry Jin",
      "photoUrl": "https://lh3.googleusercontent.com/a-/AOh14GhKnMwsDykfxrUIjARNIjgUIBd6HjrYqtcn29M1kQ=s64",
      "userId": "11418418569681566003"
     },
     "user_tz": -480
    },
    "id": "NrEuoof4kz3n",
    "outputId": "ce228c06-6533-4ecf-83d6-c571e98ebf30"
   },
   "outputs": [],
   "source": [
    "print(loss_hists1[10][0][0].forward(tTest)[1][0])\n",
    "print(loss_hists1[10][1][0].forward(tTest)[1][0])\n",
    "print(loss_hists1[10][2][0].forward(tTest)[1][2])\n",
    "#print(loss_hists1[10][3][0].forward(tTest)[1][4])\n"
   ]
  },
  {
   "cell_type": "code",
   "execution_count": null,
   "metadata": {
    "colab": {},
    "colab_type": "code",
    "id": "h-BEwCBif3A9"
   },
   "outputs": [],
   "source": []
  },
  {
   "cell_type": "code",
   "execution_count": null,
   "metadata": {
    "colab": {},
    "colab_type": "code",
    "id": "gG4Z3bI9f3JK"
   },
   "outputs": [],
   "source": []
  },
  {
   "cell_type": "markdown",
   "metadata": {
    "colab_type": "text",
    "id": "yJPyZ5ZlBT2Q"
   },
   "source": [
    "# Error Analysis"
   ]
  },
  {
   "cell_type": "markdown",
   "metadata": {
    "colab_type": "text",
    "id": "w0L8UnD3BWYt"
   },
   "source": [
    "## Ground state"
   ]
  },
  {
   "cell_type": "code",
   "execution_count": null,
   "metadata": {
    "colab": {
     "base_uri": "https://localhost:8080/",
     "height": 812
    },
    "colab_type": "code",
    "executionInfo": {
     "elapsed": 1741,
     "status": "ok",
     "timestamp": 1598149680451,
     "user": {
      "displayName": "Henry Jin",
      "photoUrl": "https://lh3.googleusercontent.com/a-/AOh14GhKnMwsDykfxrUIjARNIjgUIBd6HjrYqtcn29M1kQ=s64",
      "userId": "11418418569681566003"
     },
     "user_tz": -480
    },
    "id": "P1DN1qTgf3Mi",
    "outputId": "bbf8bc49-831f-4d35-86d5-e7c729d8b428"
   },
   "outputs": [],
   "source": [
    "plt.figure(figsize = (8,6))\n",
    "psi =parametricSolutions(tTest,loss_hists1[10][0][0],t0,xBC1) \n",
    "psi=psi.data.numpy(); \n",
    "tru = (2/np.pi)**0.25*np.exp(-(2**0.5*tTest.data.numpy())**2/2)\n",
    "plt.plot(t_net, tru, '-r', linewidth=1, label = 'True')\n",
    "\n",
    "plt.xlim(-7,7)\n",
    "plt.plot(t_net, 1*psi/np.max(np.abs(psi))*np.max(tru), '-b', linewidth=1, label = 'ANN')\n",
    "plt.legend()\n",
    "#plt.plot(t_net, np.zeros(len(t_net)),'--k', linewidth=3)\n",
    "plt.xlabel('x')\n",
    "plt.ylabel('$\\psi(x)$')\n",
    "plt.grid('on')\n",
    "plt.savefig(imgdir+'harmonic_ground.png', bbox_inches = 'tight')\n",
    "\n",
    "plt.figure(figsize = (8,6))\n",
    "plt.plot(t_net, (tru-psi/np.max(np.abs(psi))*np.max(tru))**2)\n",
    "plt.ylabel('Squared Error');plt.xlabel('x')\n",
    "print('Mean Squared Error: ' + str(np.mean((tru-psi/np.max(np.abs(psi))*np.max(tru))**2)))\n",
    "plt.savefig(imgdir+'harmonic_ground_err.png', bbox_inches = 'tight')\n"
   ]
  },
  {
   "cell_type": "code",
   "execution_count": null,
   "metadata": {
    "colab": {},
    "colab_type": "code",
    "id": "B5ql1PnNf3HI"
   },
   "outputs": [],
   "source": []
  },
  {
   "cell_type": "markdown",
   "metadata": {
    "colab_type": "text",
    "id": "rBd_Tc-dDrFo"
   },
   "source": [
    "## First Excited"
   ]
  },
  {
   "cell_type": "code",
   "execution_count": null,
   "metadata": {
    "colab": {
     "base_uri": "https://localhost:8080/",
     "height": 812
    },
    "colab_type": "code",
    "executionInfo": {
     "elapsed": 2505,
     "status": "ok",
     "timestamp": 1598149807544,
     "user": {
      "displayName": "Henry Jin",
      "photoUrl": "https://lh3.googleusercontent.com/a-/AOh14GhKnMwsDykfxrUIjARNIjgUIBd6HjrYqtcn29M1kQ=s64",
      "userId": "11418418569681566003"
     },
     "user_tz": -480
    },
    "id": "uYckC7ivf3Ep",
    "outputId": "22f47d91-e73f-46f8-c6ea-899b668db59f"
   },
   "outputs": [],
   "source": [
    "plt.figure(figsize = (8,6))\n",
    "psi =parametricSolutions(tTest,loss_hists1[10][1][0],t0,xBC1) \n",
    "psi=psi.data.numpy(); \n",
    "tru = (2/np.pi)**0.25*np.exp(-(2**0.5*tTest.data.numpy())**2/2)*2**0.5*2**0.5*tTest.data.numpy()\n",
    "plt.plot(t_net, tru, '-r', linewidth=1, label = 'True')\n",
    "\n",
    "plt.xlim(-7,7)\n",
    "plt.plot(t_net, -1*psi/np.max(np.abs(psi))*np.max(tru), '-b', linewidth=1, label = 'ANN')\n",
    "plt.legend()\n",
    "#plt.plot(t_net, np.zeros(len(t_net)),'--k', linewidth=3)\n",
    "plt.xlabel('x')\n",
    "plt.ylabel('$\\psi(x)$')\n",
    "plt.grid('on')\n",
    "plt.savefig(imgdir+'harmonic_first.png', bbox_inches = 'tight')\n",
    "\n",
    "plt.figure(figsize = (8,6))\n",
    "plt.plot(t_net, (tru+psi/np.max(np.abs(psi))*np.max(tru))**2)\n",
    "plt.ylabel('Squared Error');plt.xlabel('x')\n",
    "print('Mean Squared Error: ' + str(np.mean((tru+psi/np.max(np.abs(psi))*np.max(tru))**2)))\n",
    "plt.savefig(imgdir+'harmonic_first_err.png', bbox_inches = 'tight')\n"
   ]
  },
  {
   "cell_type": "code",
   "execution_count": null,
   "metadata": {
    "colab": {},
    "colab_type": "code",
    "id": "qMs6Oaehf2-h"
   },
   "outputs": [],
   "source": []
  },
  {
   "cell_type": "markdown",
   "metadata": {
    "colab_type": "text",
    "id": "0qmscn8SDtG3"
   },
   "source": [
    "## Second Excited"
   ]
  },
  {
   "cell_type": "code",
   "execution_count": null,
   "metadata": {
    "colab": {
     "base_uri": "https://localhost:8080/",
     "height": 812
    },
    "colab_type": "code",
    "executionInfo": {
     "elapsed": 2302,
     "status": "ok",
     "timestamp": 1598149825377,
     "user": {
      "displayName": "Henry Jin",
      "photoUrl": "https://lh3.googleusercontent.com/a-/AOh14GhKnMwsDykfxrUIjARNIjgUIBd6HjrYqtcn29M1kQ=s64",
      "userId": "11418418569681566003"
     },
     "user_tz": -480
    },
    "id": "Cy-YYh8eDuHz",
    "outputId": "ede4bf42-d22b-4a83-8572-5ea84e0fefe3"
   },
   "outputs": [],
   "source": [
    "plt.figure(figsize = (8,6))\n",
    "psi =parametricSolutions(tTest,loss_hists1[10][2][0],t0,xBC1) \n",
    "psi=psi.data.numpy(); \n",
    "tru = (2/np.pi)**0.25*np.exp(-(2**0.5*tTest.data.numpy())**2/2)*2**-0.5*(2*(2**0.5*tTest.data.numpy())**2-1)\n",
    "plt.plot(t_net, tru, '-r', linewidth=1, label = 'True')\n",
    "\n",
    "plt.xlim(-7,7)\n",
    "plt.plot(t_net, 1*psi/np.max(np.abs(psi))*np.max(tru), '-b', linewidth=1, label = 'ANN')\n",
    "plt.legend()\n",
    "#plt.plot(t_net, np.zeros(len(t_net)),'--k', linewidth=3)\n",
    "plt.xlabel('x')\n",
    "plt.ylabel('$\\psi(x)$')\n",
    "plt.grid('on')\n",
    "plt.savefig(imgdir+'harmonic_second.png', bbox_inches = 'tight')\n",
    "\n",
    "plt.figure(figsize = (8,6))\n",
    "plt.plot(t_net, (tru-psi/np.max(np.abs(psi))*np.max(tru))**2)\n",
    "plt.ylabel('Squared Error');plt.xlabel('x')\n",
    "print('Mean Squared Error: ' + str(np.mean((tru-psi/np.max(np.abs(psi))*np.max(tru))**2)))\n",
    "plt.savefig(imgdir+'harmonic_second_err.png', bbox_inches = 'tight')\n"
   ]
  },
  {
   "cell_type": "code",
   "execution_count": null,
   "metadata": {
    "colab": {},
    "colab_type": "code",
    "id": "jx1iaim6EWvN"
   },
   "outputs": [],
   "source": []
  }
 ],
 "metadata": {
  "accelerator": "GPU",
  "colab": {
   "authorship_tag": "ABX9TyPsLxZhjhMnu4Eo5MzhxQe/",
   "collapsed_sections": [],
   "name": "BothBounds_Harmonic.ipynb",
   "provenance": []
  },
  "kernelspec": {
   "display_name": "Python 3 (ipykernel)",
   "language": "python",
   "name": "python3"
  },
  "language_info": {
   "codemirror_mode": {
    "name": "ipython",
    "version": 3
   },
   "file_extension": ".py",
   "mimetype": "text/x-python",
   "name": "python",
   "nbconvert_exporter": "python",
   "pygments_lexer": "ipython3",
   "version": "3.11.5"
  }
 },
 "nbformat": 4,
 "nbformat_minor": 4
}
